{
  "cells": [
    {
      "cell_type": "markdown",
      "metadata": {
        "id": "T6zJKTUvzm0c"
      },
      "source": [
        "# Big data? 🤗 Datasets to the rescue!"
      ]
    },
    {
      "cell_type": "markdown",
      "metadata": {
        "id": "-P_TWKiBzm0e"
      },
      "source": [
        "Install the Transformers, Datasets, and Evaluate libraries to run this notebook."
      ]
    },
    {
      "cell_type": "code",
      "execution_count": null,
      "metadata": {
        "id": "RAp5HPN2zm0f"
      },
      "outputs": [],
      "source": [
        "!pip install datasets evaluate transformers[sentencepiece]"
      ]
    },
    {
      "cell_type": "markdown",
      "source": [
        "In this section we’ll explore these features of 🤗 Datasets with a huge 825 GB corpus known as `the Pile`. Let’s get started!\n",
        "\n",
        "**What is the Pile?**\n",
        "\n",
        "`The Pile` is an English text corpus that was created by EleutherAI for training large-scale language models. It includes a diverse range of datasets, spanning scientific articles, GitHub code repositories, and filtered web text. The training corpus is available in *14 GB chunk*s, and you can also download several of the individual components.\n",
        "\n",
        "Let’s start by taking a look at the *PubMed Abstracts dataset*, which is a corpus of abstracts from 15 million biomedical publications on PubMed.\n",
        "\n",
        "The dataset is in JSON Lines format and is compressed using the `zstandard `library, so first we need to install that:"
      ],
      "metadata": {
        "id": "WV0POVKvL4Wy"
      }
    },
    {
      "cell_type": "code",
      "execution_count": null,
      "metadata": {
        "id": "xArPbQaxzm0g"
      },
      "outputs": [],
      "source": [
        "!pip install zstandard"
      ]
    },
    {
      "cell_type": "code",
      "execution_count": null,
      "metadata": {
        "id": "xclXEA8Mzm0g",
        "outputId": "5ec1835e-ad6f-406e-ebab-3c0c1c43f79e"
      },
      "outputs": [
        {
          "data": {
            "text/plain": [
              "Dataset({\n",
              "    features: ['meta', 'text'],\n",
              "    num_rows: 15518009\n",
              "})"
            ]
          },
          "execution_count": null,
          "metadata": {},
          "output_type": "execute_result"
        }
      ],
      "source": [
        "from datasets import load_dataset\n",
        "\n",
        "# This takes a few minutes to run, so go grab a tea or coffee while you wait :)\n",
        "data_files = \"https://the-eye.eu/public/AI/pile_preliminary_components/PUBMED_title_abstracts_2019_baseline.jsonl.zst\"\n",
        "pubmed_dataset = load_dataset(\"json\", data_files=data_files, split=\"train\")\n",
        "pubmed_dataset"
      ]
    },
    {
      "cell_type": "markdown",
      "source": [
        "✎ By default, 🤗 Datasets will decompress the files needed to load a dataset. If you want to preserve hard drive space, you can pass `DownloadConfig(delete_extracted=True)` to the `download_config` argument of `load_dataset()`. See the documentation for more details. https://huggingface.co/docs/datasets/package_reference/builder_classes#datasets.DownloadConfig"
      ],
      "metadata": {
        "id": "WT1JGk9ZMOuZ"
      }
    },
    {
      "cell_type": "code",
      "execution_count": null,
      "metadata": {
        "id": "PM0rVrUszm0h",
        "outputId": "2f67d3c3-a4c8-442b-8f56-15692c7dfff5"
      },
      "outputs": [
        {
          "data": {
            "text/plain": [
              "{'meta': {'pmid': 11409574, 'language': 'eng'},\n",
              " 'text': 'Epidemiology of hypoxaemia in children with acute lower respiratory infection.\\nTo determine the prevalence of hypoxaemia in children aged under 5 years suffering acute lower respiratory infections (ALRI), the risk factors for hypoxaemia in children under 5 years of age with ALRI, and the association of hypoxaemia with an increased risk of dying in children of the same age ...'}"
            ]
          },
          "execution_count": null,
          "metadata": {},
          "output_type": "execute_result"
        }
      ],
      "source": [
        "pubmed_dataset[0]"
      ]
    },
    {
      "cell_type": "markdown",
      "source": [
        "**The magic of memory mapping**\n",
        "\n",
        "A simple way to measure memory usage in Python is with the `psutil` library, which can be installed with pip as follows:\n",
        "\n",
        "*It provides a Process class that allows us to check the memory usage of the current process as follows:*"
      ],
      "metadata": {
        "id": "Hjm_-HHONkOh"
      }
    },
    {
      "cell_type": "code",
      "execution_count": null,
      "metadata": {
        "id": "77XoepsXzm0i"
      },
      "outputs": [],
      "source": [
        "!pip install psutil"
      ]
    },
    {
      "cell_type": "code",
      "execution_count": null,
      "metadata": {
        "id": "ExZt2J-Ozm0i",
        "outputId": "e47835f8-0886-4313-b60f-2642f0a31894"
      },
      "outputs": [
        {
          "data": {
            "text/plain": [
              "RAM used: 5678.33 MB"
            ]
          },
          "execution_count": null,
          "metadata": {},
          "output_type": "execute_result"
        }
      ],
      "source": [
        "import psutil\n",
        "\n",
        "# Process.memory_info is expressed in bytes, so convert to megabytes\n",
        "print(f\"RAM used: {psutil.Process().memory_info().rss / (1024 * 1024):.2f} MB\")"
      ]
    },
    {
      "cell_type": "markdown",
      "source": [
        "Here the `rss` attribute refers to the **resident set size**, which is the fraction of memory that a process occupies in RAM.\n",
        "\n",
        "This measurement also includes the memory used by the Python interpreter and the libraries we’ve loaded, so the actual amount of memory used to load the dataset is a bit smaller.\n",
        "\n",
        "For comparison, let’s see how large the dataset is on disk, using the dataset_size attribute. Since the result is expressed in bytes like before, we need to manually convert it to gigabytes:"
      ],
      "metadata": {
        "id": "T2k4Gs43OL-A"
      }
    },
    {
      "cell_type": "code",
      "execution_count": null,
      "metadata": {
        "id": "bbrT_Jhfzm0j",
        "outputId": "ecae9f0d-a490-4fed-812c-6e2f26969915"
      },
      "outputs": [
        {
          "data": {
            "text/plain": [
              "Number of files in dataset : 20979437051\n",
              "Dataset size (cache file) : 19.54 GB"
            ]
          },
          "execution_count": null,
          "metadata": {},
          "output_type": "execute_result"
        }
      ],
      "source": [
        "print(f\"Number of files in dataset : {pubmed_dataset.dataset_size}\")\n",
        "size_gb = pubmed_dataset.dataset_size / (1024**3)\n",
        "print(f\"Dataset size (cache file) : {size_gb:.2f} GB\")"
      ]
    },
    {
      "cell_type": "markdown",
      "source": [
        "If you’re familiar with Pandas, this result might come as a surprise because of Wes Kinney’s famous rule of thumb that you typically need 5 to 10 times as much RAM as the size of your dataset.\n",
        "\n",
        "**So how does 🤗 Datasets solve this memory management problem? **\n",
        "\n",
        "🤗 Datasets treats each dataset as a memory-mapped file, which provides a mapping between RAM and filesystem storage that allows the library to access and operate on elements of the dataset without needing to fully load it into memory.\n",
        "\n",
        "\n",
        "Memory-mapped files can also be shared across multiple processes, which enables methods like `Dataset.map()` to be parallelized without needing to move or copy the dataset. Under the hood, these capabilities are all realized by the *Apache Arrow* memory format and pyarrow library, which make the data loading and processing lightning fast.\n",
        "\n",
        "(For more details about Apache Arrow and comparisons to Pandas, check out Dejan Simic’s blog post.)\n",
        "\n",
        "To see this in action, let’s run a little speed test by iterating over all the elements in the PubMed Abstracts dataset:"
      ],
      "metadata": {
        "id": "rgXO990jOe_k"
      }
    },
    {
      "cell_type": "code",
      "execution_count": null,
      "metadata": {
        "id": "Eg4ixLj8zm0j",
        "outputId": "4f4ba575-d65f-4605-e9b3-17056d7f119f"
      },
      "outputs": [
        {
          "data": {
            "text/plain": [
              "'Iterated over 15518009 examples (about 19.5 GB) in 64.2s, i.e. 0.304 GB/s'"
            ]
          },
          "execution_count": null,
          "metadata": {},
          "output_type": "execute_result"
        }
      ],
      "source": [
        "import timeit\n",
        "\n",
        "code_snippet = \"\"\"batch_size = 1000\n",
        "\n",
        "for idx in range(0, len(pubmed_dataset), batch_size):\n",
        "    _ = pubmed_dataset[idx:idx + batch_size]\n",
        "\"\"\"\n",
        "\n",
        "time = timeit.timeit(stmt=code_snippet, number=1, globals=globals())\n",
        "print(\n",
        "    f\"Iterated over {len(pubmed_dataset)} examples (about {size_gb:.1f} GB) in \"\n",
        "    f\"{time:.1f}s, i.e. {size_gb/time:.3f} GB/s\"\n",
        ")"
      ]
    },
    {
      "cell_type": "markdown",
      "source": [
        "**Streaming datasets**\n",
        "\n",
        "\n",
        "To enable dataset streaming you just need to pass the `streaming=True` argument to the `load_dataset() `function.\n",
        "\n",
        "For example, let’s load the PubMed Abstracts dataset again, but in streaming mode:"
      ],
      "metadata": {
        "id": "7VszQqTOPLHR"
      }
    },
    {
      "cell_type": "code",
      "execution_count": null,
      "metadata": {
        "id": "tmcGBhinzm0k"
      },
      "outputs": [],
      "source": [
        "pubmed_dataset_streamed = load_dataset(\n",
        "    \"json\", data_files=data_files, split=\"train\", streaming=True\n",
        ")"
      ]
    },
    {
      "cell_type": "markdown",
      "source": [
        "Instead of the familiar Dataset that we’ve encountered elsewhere in this chapter, the object returned with `streaming=True` is an **IterableDataset**.\n",
        "\n",
        "As the name suggests, to access the elements of an IterableDataset we need to iterate over it.\n",
        "\n",
        "We can access the first element of our streamed dataset as follows:"
      ],
      "metadata": {
        "id": "LtoXpIQ6PT4m"
      }
    },
    {
      "cell_type": "code",
      "execution_count": null,
      "metadata": {
        "id": "XgwP1TEuzm0k",
        "outputId": "f05d0651-a90b-44a2-da03-1472e7486a8d"
      },
      "outputs": [
        {
          "data": {
            "text/plain": [
              "{'meta': {'pmid': 11409574, 'language': 'eng'},\n",
              " 'text': 'Epidemiology of hypoxaemia in children with acute lower respiratory infection.\\nTo determine the prevalence of hypoxaemia in children aged under 5 years suffering acute lower respiratory infections (ALRI), the risk factors for hypoxaemia in children under 5 years of age with ALRI, and the association of hypoxaemia with an increased risk of dying in children of the same age ...'}"
            ]
          },
          "execution_count": null,
          "metadata": {},
          "output_type": "execute_result"
        }
      ],
      "source": [
        "next(iter(pubmed_dataset_streamed))"
      ]
    },
    {
      "cell_type": "markdown",
      "source": [
        "The elements from a streamed dataset can be processed on the fly using `IterableDataset.map()`, which is useful during training if you need to tokenize the inputs.\n",
        "\n",
        "The process is exactly the same as the one we used to tokenize our dataset in Chapter 3, with the only difference being that outputs are returned one by one:"
      ],
      "metadata": {
        "id": "Lbf9JSGqPioF"
      }
    },
    {
      "cell_type": "code",
      "execution_count": null,
      "metadata": {
        "id": "UMiPuvKEzm0k",
        "outputId": "d3210e1e-f4ed-4b92-bb59-1426988aa31f"
      },
      "outputs": [
        {
          "data": {
            "text/plain": [
              "{'input_ids': [101, 4958, 5178, 4328, 6779, ...], 'attention_mask': [1, 1, 1, 1, 1, ...]}"
            ]
          },
          "execution_count": null,
          "metadata": {},
          "output_type": "execute_result"
        }
      ],
      "source": [
        "from transformers import AutoTokenizer\n",
        "\n",
        "tokenizer = AutoTokenizer.from_pretrained(\"distilbert-base-uncased\")\n",
        "tokenized_dataset = pubmed_dataset_streamed.map(lambda x: tokenizer(x[\"text\"]))\n",
        "next(iter(tokenized_dataset))"
      ]
    },
    {
      "cell_type": "markdown",
      "source": [
        "💡 To speed up tokenization with streaming you can pass `batched=True`, as we saw in the last section. It will process the examples batch by batch; the default batch size is 1,000 and can be specified with the `batch_size` argument."
      ],
      "metadata": {
        "id": "73A1MuPzQEcA"
      }
    },
    {
      "cell_type": "markdown",
      "source": [
        "You can also shuffle a streamed dataset using `IterableDataset.shuffle()`, but unlike `Dataset.shuffle()` this only shuffles the elements in a predefined `buffer_size`:"
      ],
      "metadata": {
        "id": "IgyxjSFlQNtg"
      }
    },
    {
      "cell_type": "code",
      "execution_count": null,
      "metadata": {
        "id": "N_1ZlDaxzm0k",
        "outputId": "1c2e9e81-a146-4dc8-8bb3-17798a2ee9a7"
      },
      "outputs": [
        {
          "data": {
            "text/plain": [
              "{'meta': {'pmid': 11410799, 'language': 'eng'},\n",
              " 'text': 'Randomized study of dose or schedule modification of granulocyte colony-stimulating factor in platinum-based chemotherapy for elderly patients with lung cancer ...'}"
            ]
          },
          "execution_count": null,
          "metadata": {},
          "output_type": "execute_result"
        }
      ],
      "source": [
        "shuffled_dataset = pubmed_dataset_streamed.shuffle(buffer_size=10_000, seed=42)\n",
        "next(iter(shuffled_dataset))"
      ]
    },
    {
      "cell_type": "markdown",
      "source": [
        "In this example, we selected a random example from the first 10,000 examples in the buffer.\n",
        "\n",
        "Once an example is accessed, its spot in the buffer is filled with the next example in the corpus (i.e., the 10,001st example in the case above).\n",
        "\n",
        "You can also select elements from a streamed dataset using the `IterableDataset.take()` and `IterableDataset.skip()` functions, which act in a similar way to `Dataset.select()`.\n",
        "\n",
        "For example, to select the first 5 examples in the PubMed Abstracts dataset we can do the following:"
      ],
      "metadata": {
        "id": "9MsDgRAtQb3T"
      }
    },
    {
      "cell_type": "code",
      "execution_count": null,
      "metadata": {
        "id": "Xkn4v8ZCzm0k",
        "outputId": "9d9d12ba-3274-4824-bf15-0b4afb527a84"
      },
      "outputs": [
        {
          "data": {
            "text/plain": [
              "[{'meta': {'pmid': 11409574, 'language': 'eng'},\n",
              "  'text': 'Epidemiology of hypoxaemia in children with acute lower respiratory infection ...'},\n",
              " {'meta': {'pmid': 11409575, 'language': 'eng'},\n",
              "  'text': 'Clinical signs of hypoxaemia in children with acute lower respiratory infection: indicators of oxygen therapy ...'},\n",
              " {'meta': {'pmid': 11409576, 'language': 'eng'},\n",
              "  'text': \"Hypoxaemia in children with severe pneumonia in Papua New Guinea ...\"},\n",
              " {'meta': {'pmid': 11409577, 'language': 'eng'},\n",
              "  'text': 'Oxygen concentrators and cylinders ...'},\n",
              " {'meta': {'pmid': 11409578, 'language': 'eng'},\n",
              "  'text': 'Oxygen supply in rural africa: a personal experience ...'}]"
            ]
          },
          "execution_count": null,
          "metadata": {},
          "output_type": "execute_result"
        }
      ],
      "source": [
        "dataset_head = pubmed_dataset_streamed.take(5)\n",
        "list(dataset_head)"
      ]
    },
    {
      "cell_type": "markdown",
      "source": [
        "Similarly, you can use the `IterableDataset.skip()` function to create training and validation splits from a shuffled dataset as follows:"
      ],
      "metadata": {
        "id": "VbQgU-saQpUV"
      }
    },
    {
      "cell_type": "code",
      "execution_count": null,
      "metadata": {
        "id": "O9btv4ctzm0k"
      },
      "outputs": [],
      "source": [
        "# Skip the first 1,000 examples and include the rest in the training set\n",
        "train_dataset = shuffled_dataset.skip(1000)\n",
        "# Take the first 1,000 examples for the validation set\n",
        "validation_dataset = shuffled_dataset.take(1000)"
      ]
    },
    {
      "cell_type": "markdown",
      "source": [
        "Let’s round out our exploration of dataset streaming with a common application: *combining multiple datasets together to create a single corpus.*\n",
        "\n",
        "🤗 Datasets provides an `interleave_datasets() `function that converts a list of IterableDataset objects into a single IterableDataset, where the elements of the new dataset are obtained by alternating among the source examples.\n",
        "\n",
        "This function is especially useful when you’re trying to combine large datasets, so as an example let’s stream the FreeLaw subset of the Pile, which is a 51 GB dataset of legal opinions from US courts:"
      ],
      "metadata": {
        "id": "f104L6gUQxfR"
      }
    },
    {
      "cell_type": "code",
      "execution_count": null,
      "metadata": {
        "id": "9PYvPxpjzm0l",
        "outputId": "27b3f5d3-06f6-48c2-b1f7-3a909c0ad9f7"
      },
      "outputs": [
        {
          "data": {
            "text/plain": [
              "{'meta': {'case_ID': '110921.json',\n",
              "  'case_jurisdiction': 'scotus.tar.gz',\n",
              "  'date_created': '2010-04-28T17:12:49Z'},\n",
              " 'text': '\\n461 U.S. 238 (1983)\\nOLIM ET AL.\\nv.\\nWAKINEKONA\\nNo. 81-1581.\\nSupreme Court of United States.\\nArgued January 19, 1983.\\nDecided April 26, 1983.\\nCERTIORARI TO THE UNITED STATES COURT OF APPEALS FOR THE NINTH CIRCUIT\\n*239 Michael A. Lilly, First Deputy Attorney General of Hawaii, argued the cause for petitioners. With him on the brief was James H. Dannenberg, Deputy Attorney General...'}"
            ]
          },
          "execution_count": null,
          "metadata": {},
          "output_type": "execute_result"
        }
      ],
      "source": [
        "law_dataset_streamed = load_dataset(\n",
        "    \"json\",\n",
        "    data_files=\"https://the-eye.eu/public/AI/pile_preliminary_components/FreeLaw_Opinions.jsonl.zst\",\n",
        "    split=\"train\",\n",
        "    streaming=True,\n",
        ")\n",
        "next(iter(law_dataset_streamed))"
      ]
    },
    {
      "cell_type": "markdown",
      "source": [
        "This dataset is large enough to stress the RAM of most laptops, yet we’ve been able to load and access it without breaking a sweat!\n",
        "\n",
        "Let’s now combine the examples from the FreeLaw and PubMed Abstracts datasets with the `interleave_datasets()` function:"
      ],
      "metadata": {
        "id": "g6nbpezJRAnS"
      }
    },
    {
      "cell_type": "code",
      "execution_count": null,
      "metadata": {
        "id": "QQdXeNFczm0l",
        "outputId": "d94657aa-9c01-477d-c5f5-2301a487fc9f"
      },
      "outputs": [
        {
          "data": {
            "text/plain": [
              "[{'meta': {'pmid': 11409574, 'language': 'eng'},\n",
              "  'text': 'Epidemiology of hypoxaemia in children with acute lower respiratory infection ...'},\n",
              " {'meta': {'case_ID': '110921.json',\n",
              "   'case_jurisdiction': 'scotus.tar.gz',\n",
              "   'date_created': '2010-04-28T17:12:49Z'},\n",
              "  'text': '\\n461 U.S. 238 (1983)\\nOLIM ET AL.\\nv.\\nWAKINEKONA\\nNo. 81-1581.\\nSupreme Court of United States.\\nArgued January 19, 1983.\\nDecided April 26, 1983.\\nCERTIORARI TO THE UNITED STATES COURT OF APPEALS FOR THE NINTH CIRCUIT\\n*239 Michael A. Lilly, First Deputy Attorney General of Hawaii, argued the cause for petitioners. With him on the brief was James H. Dannenberg, Deputy Attorney General...'}]"
            ]
          },
          "execution_count": null,
          "metadata": {},
          "output_type": "execute_result"
        }
      ],
      "source": [
        "from itertools import islice\n",
        "from datasets import interleave_datasets\n",
        "\n",
        "combined_dataset = interleave_datasets([pubmed_dataset_streamed, law_dataset_streamed])\n",
        "list(islice(combined_dataset, 2))"
      ]
    },
    {
      "cell_type": "markdown",
      "source": [
        "Here we’ve used the `islice()` function from Python’s itertools module to select the first two examples from the combined dataset, and we can see that they match the first examples from each of the two source datasets.\n",
        "\n",
        "Finally, if you want to stream the Pile in its 825 GB entirety, you can grab all the prepared files as follows:"
      ],
      "metadata": {
        "id": "umzV9s1mRKrV"
      }
    },
    {
      "cell_type": "code",
      "execution_count": null,
      "metadata": {
        "id": "R28XEZ74zm0l",
        "outputId": "a666c3dc-b62f-429a-8b57-95322ff87293"
      },
      "outputs": [
        {
          "data": {
            "text/plain": [
              "{'meta': {'pile_set_name': 'Pile-CC'},\n",
              " 'text': 'It is done, and submitted. You can play “Survival of the Tastiest” on Android, and on the web...'}"
            ]
          },
          "execution_count": null,
          "metadata": {},
          "output_type": "execute_result"
        }
      ],
      "source": [
        "base_url = \"https://the-eye.eu/public/AI/pile/\"\n",
        "data_files = {\n",
        "    \"train\": [base_url + \"train/\" + f\"{idx:02d}.jsonl.zst\" for idx in range(30)],\n",
        "    \"validation\": base_url + \"val.jsonl.zst\",\n",
        "    \"test\": base_url + \"test.jsonl.zst\",\n",
        "}\n",
        "pile_dataset = load_dataset(\"json\", data_files=data_files, streaming=True)\n",
        "next(iter(pile_dataset[\"train\"]))"
      ]
    }
  ],
  "metadata": {
    "colab": {
      "name": "Big data? 🤗 Datasets to the rescue!",
      "provenance": []
    }
  },
  "nbformat": 4,
  "nbformat_minor": 0
}